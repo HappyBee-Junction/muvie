{
 "cells": [
  {
   "cell_type": "code",
   "execution_count": 11,
   "metadata": {
    "collapsed": true
   },
   "outputs": [],
   "source": [
    "test = ['ocean', 'we', 'drug', 'abuse', 'exotic', 'island', 'finds',\n",
    "        'east', 'india', 'trading', 'company', 'love',\n",
    "        'of', \"one's\", 'life', 'traitor', 'shipwreck', 'z',\n",
    "        'strong', 'woman', 'ship', 'alliance', 'calypso',\n",
    "        'afterlife', 'fighter', 'pirate', 'swashbuckler',\n",
    "        'aftercreditsstinger']\n",
    "\n",
    "\n",
    "STOPWORDS = ['a', 'about', 'above', 'across', 'after', 'again',\n",
    "              'against', 'all', 'almost', 'alone', 'along', 'already',\n",
    "              'also', 'although', 'always', 'among', 'an', 'and',\n",
    "              'another', 'any', 'anybody', 'anyone', 'anything',\n",
    "              'anywhere', 'are', 'area', 'areas', 'around', 'as',\n",
    "              'ask', 'asked', 'asking', 'asks', 'at', 'away', 'b',\n",
    "              'back', 'backed', 'backing', 'backs', 'be', 'became',\n",
    "              'because', 'become', 'becomes', 'been', 'before', 'began',\n",
    "              'behind', 'being', 'beings', 'best', 'better', 'between',\n",
    "              'big', 'both', 'but', 'by', 'c', 'came', 'can', 'cannot',\n",
    "              'case', 'cases', 'certain', 'certainly', 'clear', 'clearly',\n",
    "              'come', 'could', 'd', 'did', 'differ', 'different', 'differently',\n",
    "              'do', 'does', 'done', 'down', 'down', 'downed', 'downing',\n",
    "              'downs', 'during', 'e', 'each', 'early', 'either', 'end',\n",
    "              'ended', 'ending', 'ends', 'enough', 'even', 'evenly',\n",
    "              'ever', 'every', 'everybody', 'everyone', 'everything',\n",
    "              'everywhere', 'f', 'face', 'faces', 'fact', 'facts', 'far',\n",
    "              'felt', 'few', 'find', 'finds', 'first', 'for', 'four', 'from',\n",
    "              'full', 'fully', 'further', 'furthered', 'furthering', 'furthers',\n",
    "              'g', 'gave', 'general', 'generally', 'get', 'gets', 'give',\n",
    "              'given', 'gives', 'go', 'going', 'good', 'goods', 'got', 'great',\n",
    "              'greater', 'greatest', 'group', 'grouped', 'grouping', 'groups',\n",
    "              'h', 'had', 'has', 'have', 'having', 'he', 'her', 'here',\n",
    "              'herself', 'high', 'high', 'high', 'higher', 'highest',\n",
    "              'him', 'himself', 'his', 'how', 'however', 'i', 'if', 'important',\n",
    "              'in', 'interest', 'interested', 'interesting', 'interests', 'into',\n",
    "              'is', 'it', 'its', 'itself', 'j', 'just', 'k', 'keep', 'keeps',\n",
    "              'kind', 'knew', 'know', 'known', 'knows', 'l', 'large', 'largely',\n",
    "              'last', 'later', 'latest', 'least', 'less', 'let', 'lets', 'like',\n",
    "              'likely', 'long', 'longer', 'longest', 'm', 'made', 'make', 'making',\n",
    "              'man', 'many', 'may', 'me', 'member', 'members', 'men', 'might', 'more',\n",
    "              'most', 'mostly', 'mr', 'mrs', 'much', 'must', 'my', 'myself', 'n',\n",
    "              'necessary', 'need', 'needed', 'needing', 'needs', 'never', 'new',\n",
    "              'new', 'newer', 'newest', 'next', 'no', 'nobody', 'non', 'noone',\n",
    "              'not', 'nothing', 'now', 'nowhere', 'number', 'numbers', 'o', 'of',\n",
    "              'off', 'often', 'old', 'older', 'oldest', 'on', 'once', 'one', 'only',\n",
    "              'open', 'opened', 'opening', 'opens', 'or', 'order', 'ordered', 'ordering',\n",
    "              'orders', 'other', 'others', 'our', 'out', 'over', 'p', 'part', 'parted',\n",
    "              'parting', 'parts', 'per', 'perhaps', 'place', 'places', 'point', 'pointed',\n",
    "              'pointing', 'points', 'possible', 'present', 'presented', 'presenting',\n",
    "              'presents', 'problem', 'problems', 'put', 'puts', 'q', 'quite', 'r', 'rather',\n",
    "              'really', 'right', 'right', 'room', 'rooms', 's', 'said', 'same', 'saw', 'say',\n",
    "              'says', 'second', 'seconds', 'see', 'seem', 'seemed', 'seeming', 'seems', 'sees',\n",
    "              'several', 'shall', 'she', 'should', 'show', 'showed', 'showing', 'shows',\n",
    "              'side', 'sides', 'since', 'small', 'smaller', 'smallest', 'so', 'some',\n",
    "              'somebody', 'someone', 'something', 'somewhere', 'state', 'states', 'still',\n",
    "              'still', 'such', 'sure', 't', 'take', 'taken', 'than', 'that', 'the', 'their',\n",
    "              'them', 'then', 'there', 'therefore', 'these', 'they', 'thing', 'things',\n",
    "              'think', 'thinks', 'this', 'those', 'though', 'thought', 'thoughts', 'three', \n",
    "              'through', 'thus', 'to', 'today', 'together', 'too', 'took', 'toward', 'turn',\n",
    "              'turned', 'turning', 'turns', 'two', 'u', 'under', 'until', 'up', 'upon', 'us',\n",
    "              'use', 'used', 'uses', 'v', 'very', 'w', 'want', 'wanted', 'wanting', 'wants',\n",
    "              'was', 'way', 'ways', 'we', 'well', 'wells', 'went', 'were', 'what', 'when',\n",
    "              'where', 'whether', 'which', 'while', 'who', 'whole', 'whose', 'why', 'will',\n",
    "              'with', 'within', 'without', 'work', 'worked', 'working', 'works', 'would',\n",
    "              'x', 'y', 'year', 'years', 'yet', 'you', 'young', 'younger', 'youngest', 'your', 'yours', 'z']"
   ]
  },
  {
   "cell_type": "code",
   "execution_count": 12,
   "metadata": {
    "collapsed": false
   },
   "outputs": [],
   "source": [
    "def rm_stopwords(input):\n",
    "    for word in input:\n",
    "        if word in STOPWORDS:\n",
    "            input.remove(word)\n",
    "    "
   ]
  },
  {
   "cell_type": "code",
   "execution_count": 13,
   "metadata": {
    "collapsed": false
   },
   "outputs": [
    {
     "name": "stdout",
     "output_type": "stream",
     "text": [
      "['ocean', 'drug', 'abuse', 'exotic', 'island', 'east', 'india', 'trading', 'company', 'love', \"one's\", 'life', 'traitor', 'shipwreck', 'strong', 'woman', 'ship', 'alliance', 'calypso', 'afterlife', 'fighter', 'pirate', 'swashbuckler', 'aftercreditsstinger']\n"
     ]
    }
   ],
   "source": [
    "rm_stopwords(test)\n",
    "print(test)"
   ]
  },
  {
   "cell_type": "code",
   "execution_count": null,
   "metadata": {
    "collapsed": true
   },
   "outputs": [],
   "source": []
  }
 ],
 "metadata": {
  "anaconda-cloud": {},
  "kernelspec": {
   "display_name": "Python [default]",
   "language": "python",
   "name": "python3"
  },
  "language_info": {
   "codemirror_mode": {
    "name": "ipython",
    "version": 3
   },
   "file_extension": ".py",
   "mimetype": "text/x-python",
   "name": "python",
   "nbconvert_exporter": "python",
   "pygments_lexer": "ipython3",
   "version": "3.5.2"
  }
 },
 "nbformat": 4,
 "nbformat_minor": 1
}
